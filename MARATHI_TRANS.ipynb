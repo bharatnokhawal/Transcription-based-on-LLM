{
  "nbformat": 4,
  "nbformat_minor": 0,
  "metadata": {
    "colab": {
      "provenance": []
    },
    "kernelspec": {
      "name": "python3",
      "display_name": "Python 3"
    },
    "language_info": {
      "name": "python"
    }
  },
  "cells": [
    {
      "cell_type": "code",
      "execution_count": null,
      "metadata": {
        "colab": {
          "base_uri": "https://localhost:8080/"
        },
        "id": "WemPIzA6WduQ",
        "outputId": "100efd2f-5272-4e6d-f03d-ac197868c579"
      },
      "outputs": [
        {
          "output_type": "stream",
          "name": "stdout",
          "text": [
            "Transcriptions have been written to: /content/MARATHI_TRANSCRIPT.txt\n"
          ]
        }
      ],
      "source": [
        "import pandas as pd\n",
        "\n",
        "# Read the CSV file\n",
        "csv_file_path = \"/content/Output_transcript.csv\"\n",
        "df = pd.read_csv(csv_file_path)\n",
        "\n",
        "# Assuming the transcription column is named 'transcript'\n",
        "transcriptions = df['Transcript'].tolist()\n",
        "\n",
        "# Specify a valid file path for the output text file\n",
        "output_text_file_path = \"/content/MARATHI_TRANSCRIPT.txt\"\n",
        "\n",
        "# Write the transcriptions to the text file\n",
        "with open(output_text_file_path, 'w', encoding='utf-8') as f:\n",
        "    for transcription in transcriptions:\n",
        "        f.write(str(transcription) + '\\n')\n",
        "\n",
        "print(\"Transcriptions have been written to:\", output_text_file_path)"
      ]
    }
  ]
}